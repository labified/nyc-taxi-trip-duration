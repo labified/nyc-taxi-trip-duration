{
 "cells": [
  {
   "cell_type": "code",
   "execution_count": 1,
   "metadata": {},
   "outputs": [],
   "source": [
    "import pandas as pd\n",
    "import numpy as np\n",
    "import pytz as tz"
   ]
  },
  {
   "cell_type": "code",
   "execution_count": 2,
   "metadata": {},
   "outputs": [],
   "source": [
    "train = pd.read_csv('./data/train.csv')"
   ]
  },
  {
   "cell_type": "code",
   "execution_count": 3,
   "metadata": {},
   "outputs": [
    {
     "name": "stdout",
     "output_type": "stream",
     "text": [
      "2016-01-01 00:00:17\n",
      "2016-06-30 23:59:39\n",
      "2016-01-01 00:03:31\n",
      "2016-07-01 23:02:03\n"
     ]
    }
   ],
   "source": [
    "train['pickup_datetime'] = pd.to_datetime(train['pickup_datetime'],infer_datetime_format=True)\n",
    "train['dropoff_datetime'] = pd.to_datetime(train['dropoff_datetime'],infer_datetime_format=True)\n",
    "print(train['pickup_datetime'].min())\n",
    "print(train['pickup_datetime'].max())\n",
    "print(train['dropoff_datetime'].min())\n",
    "print(train['dropoff_datetime'].max())"
   ]
  },
  {
   "cell_type": "code",
   "execution_count": 4,
   "metadata": {},
   "outputs": [],
   "source": [
    "def to_epoch(ts):\n",
    "    return int((ts - pd.Timestamp('1970-01-01')) / np.timedelta64(1, 's'))"
   ]
  },
  {
   "cell_type": "code",
   "execution_count": 5,
   "metadata": {},
   "outputs": [],
   "source": [
    "train['pickup_datetime_epoch'] = train['pickup_datetime'].apply(to_epoch)\n",
    "train['dropoff_datetime_epoch'] = train['dropoff_datetime'].apply(to_epoch)"
   ]
  },
  {
   "cell_type": "code",
   "execution_count": 6,
   "metadata": {
    "scrolled": true
   },
   "outputs": [
    {
     "data": {
      "text/html": [
       "<div>\n",
       "<style scoped>\n",
       "    .dataframe tbody tr th:only-of-type {\n",
       "        vertical-align: middle;\n",
       "    }\n",
       "\n",
       "    .dataframe tbody tr th {\n",
       "        vertical-align: top;\n",
       "    }\n",
       "\n",
       "    .dataframe thead th {\n",
       "        text-align: right;\n",
       "    }\n",
       "</style>\n",
       "<table border=\"1\" class=\"dataframe\">\n",
       "  <thead>\n",
       "    <tr style=\"text-align: right;\">\n",
       "      <th></th>\n",
       "      <th>id</th>\n",
       "      <th>vendor_id</th>\n",
       "      <th>pickup_datetime</th>\n",
       "      <th>dropoff_datetime</th>\n",
       "      <th>passenger_count</th>\n",
       "      <th>pickup_longitude</th>\n",
       "      <th>pickup_latitude</th>\n",
       "      <th>dropoff_longitude</th>\n",
       "      <th>dropoff_latitude</th>\n",
       "      <th>store_and_fwd_flag</th>\n",
       "      <th>trip_duration</th>\n",
       "      <th>pickup_datetime_epoch</th>\n",
       "      <th>dropoff_datetime_epoch</th>\n",
       "    </tr>\n",
       "  </thead>\n",
       "  <tbody>\n",
       "    <tr>\n",
       "      <th>0</th>\n",
       "      <td>id2875421</td>\n",
       "      <td>2</td>\n",
       "      <td>2016-03-14 17:24:55</td>\n",
       "      <td>2016-03-14 17:32:30</td>\n",
       "      <td>1</td>\n",
       "      <td>-73.982155</td>\n",
       "      <td>40.767937</td>\n",
       "      <td>-73.964630</td>\n",
       "      <td>40.765602</td>\n",
       "      <td>N</td>\n",
       "      <td>455</td>\n",
       "      <td>1457976295</td>\n",
       "      <td>1457976750</td>\n",
       "    </tr>\n",
       "    <tr>\n",
       "      <th>1</th>\n",
       "      <td>id2377394</td>\n",
       "      <td>1</td>\n",
       "      <td>2016-06-12 00:43:35</td>\n",
       "      <td>2016-06-12 00:54:38</td>\n",
       "      <td>1</td>\n",
       "      <td>-73.980415</td>\n",
       "      <td>40.738564</td>\n",
       "      <td>-73.999481</td>\n",
       "      <td>40.731152</td>\n",
       "      <td>N</td>\n",
       "      <td>663</td>\n",
       "      <td>1465692215</td>\n",
       "      <td>1465692878</td>\n",
       "    </tr>\n",
       "    <tr>\n",
       "      <th>2</th>\n",
       "      <td>id3858529</td>\n",
       "      <td>2</td>\n",
       "      <td>2016-01-19 11:35:24</td>\n",
       "      <td>2016-01-19 12:10:48</td>\n",
       "      <td>1</td>\n",
       "      <td>-73.979027</td>\n",
       "      <td>40.763939</td>\n",
       "      <td>-74.005333</td>\n",
       "      <td>40.710087</td>\n",
       "      <td>N</td>\n",
       "      <td>2124</td>\n",
       "      <td>1453203324</td>\n",
       "      <td>1453205448</td>\n",
       "    </tr>\n",
       "    <tr>\n",
       "      <th>3</th>\n",
       "      <td>id3504673</td>\n",
       "      <td>2</td>\n",
       "      <td>2016-04-06 19:32:31</td>\n",
       "      <td>2016-04-06 19:39:40</td>\n",
       "      <td>1</td>\n",
       "      <td>-74.010040</td>\n",
       "      <td>40.719971</td>\n",
       "      <td>-74.012268</td>\n",
       "      <td>40.706718</td>\n",
       "      <td>N</td>\n",
       "      <td>429</td>\n",
       "      <td>1459971151</td>\n",
       "      <td>1459971580</td>\n",
       "    </tr>\n",
       "    <tr>\n",
       "      <th>4</th>\n",
       "      <td>id2181028</td>\n",
       "      <td>2</td>\n",
       "      <td>2016-03-26 13:30:55</td>\n",
       "      <td>2016-03-26 13:38:10</td>\n",
       "      <td>1</td>\n",
       "      <td>-73.973053</td>\n",
       "      <td>40.793209</td>\n",
       "      <td>-73.972923</td>\n",
       "      <td>40.782520</td>\n",
       "      <td>N</td>\n",
       "      <td>435</td>\n",
       "      <td>1458999055</td>\n",
       "      <td>1458999490</td>\n",
       "    </tr>\n",
       "  </tbody>\n",
       "</table>\n",
       "</div>"
      ],
      "text/plain": [
       "          id  vendor_id     pickup_datetime    dropoff_datetime  \\\n",
       "0  id2875421          2 2016-03-14 17:24:55 2016-03-14 17:32:30   \n",
       "1  id2377394          1 2016-06-12 00:43:35 2016-06-12 00:54:38   \n",
       "2  id3858529          2 2016-01-19 11:35:24 2016-01-19 12:10:48   \n",
       "3  id3504673          2 2016-04-06 19:32:31 2016-04-06 19:39:40   \n",
       "4  id2181028          2 2016-03-26 13:30:55 2016-03-26 13:38:10   \n",
       "\n",
       "   passenger_count  pickup_longitude  pickup_latitude  dropoff_longitude  \\\n",
       "0                1        -73.982155        40.767937         -73.964630   \n",
       "1                1        -73.980415        40.738564         -73.999481   \n",
       "2                1        -73.979027        40.763939         -74.005333   \n",
       "3                1        -74.010040        40.719971         -74.012268   \n",
       "4                1        -73.973053        40.793209         -73.972923   \n",
       "\n",
       "   dropoff_latitude store_and_fwd_flag  trip_duration  pickup_datetime_epoch  \\\n",
       "0         40.765602                  N            455             1457976295   \n",
       "1         40.731152                  N            663             1465692215   \n",
       "2         40.710087                  N           2124             1453203324   \n",
       "3         40.706718                  N            429             1459971151   \n",
       "4         40.782520                  N            435             1458999055   \n",
       "\n",
       "   dropoff_datetime_epoch  \n",
       "0              1457976750  \n",
       "1              1465692878  \n",
       "2              1453205448  \n",
       "3              1459971580  \n",
       "4              1458999490  "
      ]
     },
     "execution_count": 6,
     "metadata": {},
     "output_type": "execute_result"
    }
   ],
   "source": [
    "train.head()"
   ]
  },
  {
   "cell_type": "code",
   "execution_count": 8,
   "metadata": {},
   "outputs": [],
   "source": [
    "routes1 = pd.read_csv('./data/routes_1.csv')\n",
    "routes2 = pd.read_csv('./data/routes_2.csv')"
   ]
  },
  {
   "cell_type": "code",
   "execution_count": 12,
   "metadata": {},
   "outputs": [
    {
     "name": "stdout",
     "output_type": "stream",
     "text": [
      "<class 'pandas.core.frame.DataFrame'>\n",
      "RangeIndex: 700000 entries, 0 to 699999\n",
      "Data columns (total 6 columns):\n",
      "ID                      700000 non-null object\n",
      "Origin_start_name       700000 non-null object\n",
      "Destination_end_name    700000 non-null object\n",
      "Total_distance          700000 non-null float64\n",
      "Total_time              700000 non-null float64\n",
      "Number_of_steps         700000 non-null int64\n",
      "dtypes: float64(2), int64(1), object(3)\n",
      "memory usage: 32.0+ MB\n"
     ]
    }
   ],
   "source": [
    "routes1.info()"
   ]
  },
  {
   "cell_type": "code",
   "execution_count": 13,
   "metadata": {},
   "outputs": [
    {
     "name": "stdout",
     "output_type": "stream",
     "text": [
      "<class 'pandas.core.frame.DataFrame'>\n",
      "RangeIndex: 758643 entries, 0 to 758642\n",
      "Data columns (total 6 columns):\n",
      "ID                      758643 non-null object\n",
      "Origin_start_name       758643 non-null object\n",
      "Destination_end_name    758643 non-null object\n",
      "Total_distance          758643 non-null float64\n",
      "Total_time              758643 non-null float64\n",
      "Number_of_steps         758643 non-null int64\n",
      "dtypes: float64(2), int64(1), object(3)\n",
      "memory usage: 34.7+ MB\n"
     ]
    }
   ],
   "source": [
    "routes2.info()"
   ]
  },
  {
   "cell_type": "code",
   "execution_count": 19,
   "metadata": {},
   "outputs": [],
   "source": [
    "routes = pd.concat([routes1, routes2])\n",
    "routes.rename({'ID': 'id'}, axis='columns', inplace=True)"
   ]
  },
  {
   "cell_type": "code",
   "execution_count": 20,
   "metadata": {},
   "outputs": [
    {
     "name": "stdout",
     "output_type": "stream",
     "text": [
      "<class 'pandas.core.frame.DataFrame'>\n",
      "Int64Index: 1458643 entries, 0 to 758642\n",
      "Data columns (total 6 columns):\n",
      "id                      1458643 non-null object\n",
      "Origin_start_name       1458643 non-null object\n",
      "Destination_end_name    1458643 non-null object\n",
      "Total_distance          1458643 non-null float64\n",
      "Total_time              1458643 non-null float64\n",
      "Number_of_steps         1458643 non-null int64\n",
      "dtypes: float64(2), int64(1), object(3)\n",
      "memory usage: 77.9+ MB\n"
     ]
    }
   ],
   "source": [
    "routes.info()"
   ]
  },
  {
   "cell_type": "code",
   "execution_count": 21,
   "metadata": {},
   "outputs": [
    {
     "name": "stdout",
     "output_type": "stream",
     "text": [
      "<class 'pandas.core.frame.DataFrame'>\n",
      "RangeIndex: 1458644 entries, 0 to 1458643\n",
      "Data columns (total 13 columns):\n",
      "id                        1458644 non-null object\n",
      "vendor_id                 1458644 non-null int64\n",
      "pickup_datetime           1458644 non-null datetime64[ns]\n",
      "dropoff_datetime          1458644 non-null datetime64[ns]\n",
      "passenger_count           1458644 non-null int64\n",
      "pickup_longitude          1458644 non-null float64\n",
      "pickup_latitude           1458644 non-null float64\n",
      "dropoff_longitude         1458644 non-null float64\n",
      "dropoff_latitude          1458644 non-null float64\n",
      "store_and_fwd_flag        1458644 non-null object\n",
      "trip_duration             1458644 non-null int64\n",
      "pickup_datetime_epoch     1458644 non-null int64\n",
      "dropoff_datetime_epoch    1458644 non-null int64\n",
      "dtypes: datetime64[ns](2), float64(4), int64(5), object(2)\n",
      "memory usage: 144.7+ MB\n"
     ]
    }
   ],
   "source": [
    "train.info()"
   ]
  },
  {
   "cell_type": "code",
   "execution_count": 24,
   "metadata": {},
   "outputs": [],
   "source": [
    "train_with_routes = pd.merge(train, routes, on='id')"
   ]
  },
  {
   "cell_type": "code",
   "execution_count": 25,
   "metadata": {},
   "outputs": [
    {
     "name": "stdout",
     "output_type": "stream",
     "text": [
      "<class 'pandas.core.frame.DataFrame'>\n",
      "Int64Index: 1458643 entries, 0 to 1458642\n",
      "Data columns (total 18 columns):\n",
      "id                        1458643 non-null object\n",
      "vendor_id                 1458643 non-null int64\n",
      "pickup_datetime           1458643 non-null datetime64[ns]\n",
      "dropoff_datetime          1458643 non-null datetime64[ns]\n",
      "passenger_count           1458643 non-null int64\n",
      "pickup_longitude          1458643 non-null float64\n",
      "pickup_latitude           1458643 non-null float64\n",
      "dropoff_longitude         1458643 non-null float64\n",
      "dropoff_latitude          1458643 non-null float64\n",
      "store_and_fwd_flag        1458643 non-null object\n",
      "trip_duration             1458643 non-null int64\n",
      "pickup_datetime_epoch     1458643 non-null int64\n",
      "dropoff_datetime_epoch    1458643 non-null int64\n",
      "Origin_start_name         1458643 non-null object\n",
      "Destination_end_name      1458643 non-null object\n",
      "Total_distance            1458643 non-null float64\n",
      "Total_time                1458643 non-null float64\n",
      "Number_of_steps           1458643 non-null int64\n",
      "dtypes: datetime64[ns](2), float64(6), int64(6), object(4)\n",
      "memory usage: 211.4+ MB\n"
     ]
    }
   ],
   "source": [
    "train_with_routes.info()"
   ]
  },
  {
   "cell_type": "code",
   "execution_count": 29,
   "metadata": {},
   "outputs": [
    {
     "data": {
      "text/html": [
       "<div>\n",
       "<style scoped>\n",
       "    .dataframe tbody tr th:only-of-type {\n",
       "        vertical-align: middle;\n",
       "    }\n",
       "\n",
       "    .dataframe tbody tr th {\n",
       "        vertical-align: top;\n",
       "    }\n",
       "\n",
       "    .dataframe thead th {\n",
       "        text-align: right;\n",
       "    }\n",
       "</style>\n",
       "<table border=\"1\" class=\"dataframe\">\n",
       "  <thead>\n",
       "    <tr style=\"text-align: right;\">\n",
       "      <th></th>\n",
       "      <th>id</th>\n",
       "      <th>vendor_id</th>\n",
       "      <th>pickup_datetime</th>\n",
       "      <th>dropoff_datetime</th>\n",
       "      <th>passenger_count</th>\n",
       "      <th>pickup_longitude</th>\n",
       "      <th>pickup_latitude</th>\n",
       "      <th>dropoff_longitude</th>\n",
       "      <th>dropoff_latitude</th>\n",
       "      <th>store_and_fwd_flag</th>\n",
       "      <th>trip_duration</th>\n",
       "      <th>pickup_datetime_epoch</th>\n",
       "      <th>dropoff_datetime_epoch</th>\n",
       "      <th>Origin_start_name</th>\n",
       "      <th>Destination_end_name</th>\n",
       "      <th>Total_distance</th>\n",
       "      <th>Total_time</th>\n",
       "      <th>Number_of_steps</th>\n",
       "    </tr>\n",
       "  </thead>\n",
       "  <tbody>\n",
       "    <tr>\n",
       "      <th>0</th>\n",
       "      <td>id2875421</td>\n",
       "      <td>2</td>\n",
       "      <td>2016-03-14 17:24:55</td>\n",
       "      <td>2016-03-14 17:32:30</td>\n",
       "      <td>1</td>\n",
       "      <td>-73.982155</td>\n",
       "      <td>40.767937</td>\n",
       "      <td>-73.964630</td>\n",
       "      <td>40.765602</td>\n",
       "      <td>N</td>\n",
       "      <td>455</td>\n",
       "      <td>1457976295</td>\n",
       "      <td>1457976750</td>\n",
       "      <td>Columbus Circle</td>\n",
       "      <td>East 65th Street</td>\n",
       "      <td>2009.1</td>\n",
       "      <td>164.9</td>\n",
       "      <td>5</td>\n",
       "    </tr>\n",
       "    <tr>\n",
       "      <th>1</th>\n",
       "      <td>id2377394</td>\n",
       "      <td>1</td>\n",
       "      <td>2016-06-12 00:43:35</td>\n",
       "      <td>2016-06-12 00:54:38</td>\n",
       "      <td>1</td>\n",
       "      <td>-73.980415</td>\n",
       "      <td>40.738564</td>\n",
       "      <td>-73.999481</td>\n",
       "      <td>40.731152</td>\n",
       "      <td>N</td>\n",
       "      <td>663</td>\n",
       "      <td>1465692215</td>\n",
       "      <td>1465692878</td>\n",
       "      <td>2nd Avenue</td>\n",
       "      <td>Washington Square West</td>\n",
       "      <td>2513.2</td>\n",
       "      <td>332.0</td>\n",
       "      <td>6</td>\n",
       "    </tr>\n",
       "    <tr>\n",
       "      <th>2</th>\n",
       "      <td>id3858529</td>\n",
       "      <td>2</td>\n",
       "      <td>2016-01-19 11:35:24</td>\n",
       "      <td>2016-01-19 12:10:48</td>\n",
       "      <td>1</td>\n",
       "      <td>-73.979027</td>\n",
       "      <td>40.763939</td>\n",
       "      <td>-74.005333</td>\n",
       "      <td>40.710087</td>\n",
       "      <td>N</td>\n",
       "      <td>2124</td>\n",
       "      <td>1453203324</td>\n",
       "      <td>1453205448</td>\n",
       "      <td>West 56th Street</td>\n",
       "      <td>Beekman Street</td>\n",
       "      <td>11060.8</td>\n",
       "      <td>767.6</td>\n",
       "      <td>16</td>\n",
       "    </tr>\n",
       "    <tr>\n",
       "      <th>3</th>\n",
       "      <td>id3504673</td>\n",
       "      <td>2</td>\n",
       "      <td>2016-04-06 19:32:31</td>\n",
       "      <td>2016-04-06 19:39:40</td>\n",
       "      <td>1</td>\n",
       "      <td>-74.010040</td>\n",
       "      <td>40.719971</td>\n",
       "      <td>-74.012268</td>\n",
       "      <td>40.706718</td>\n",
       "      <td>N</td>\n",
       "      <td>429</td>\n",
       "      <td>1459971151</td>\n",
       "      <td>1459971580</td>\n",
       "      <td>Greenwich Street</td>\n",
       "      <td>Broadway</td>\n",
       "      <td>1779.4</td>\n",
       "      <td>235.8</td>\n",
       "      <td>4</td>\n",
       "    </tr>\n",
       "    <tr>\n",
       "      <th>4</th>\n",
       "      <td>id2181028</td>\n",
       "      <td>2</td>\n",
       "      <td>2016-03-26 13:30:55</td>\n",
       "      <td>2016-03-26 13:38:10</td>\n",
       "      <td>1</td>\n",
       "      <td>-73.973053</td>\n",
       "      <td>40.793209</td>\n",
       "      <td>-73.972923</td>\n",
       "      <td>40.782520</td>\n",
       "      <td>N</td>\n",
       "      <td>435</td>\n",
       "      <td>1458999055</td>\n",
       "      <td>1458999490</td>\n",
       "      <td>Broadway</td>\n",
       "      <td>West 81st Street</td>\n",
       "      <td>1614.9</td>\n",
       "      <td>140.1</td>\n",
       "      <td>5</td>\n",
       "    </tr>\n",
       "  </tbody>\n",
       "</table>\n",
       "</div>"
      ],
      "text/plain": [
       "          id  vendor_id     pickup_datetime    dropoff_datetime  \\\n",
       "0  id2875421          2 2016-03-14 17:24:55 2016-03-14 17:32:30   \n",
       "1  id2377394          1 2016-06-12 00:43:35 2016-06-12 00:54:38   \n",
       "2  id3858529          2 2016-01-19 11:35:24 2016-01-19 12:10:48   \n",
       "3  id3504673          2 2016-04-06 19:32:31 2016-04-06 19:39:40   \n",
       "4  id2181028          2 2016-03-26 13:30:55 2016-03-26 13:38:10   \n",
       "\n",
       "   passenger_count  pickup_longitude  pickup_latitude  dropoff_longitude  \\\n",
       "0                1        -73.982155        40.767937         -73.964630   \n",
       "1                1        -73.980415        40.738564         -73.999481   \n",
       "2                1        -73.979027        40.763939         -74.005333   \n",
       "3                1        -74.010040        40.719971         -74.012268   \n",
       "4                1        -73.973053        40.793209         -73.972923   \n",
       "\n",
       "   dropoff_latitude store_and_fwd_flag  trip_duration  pickup_datetime_epoch  \\\n",
       "0         40.765602                  N            455             1457976295   \n",
       "1         40.731152                  N            663             1465692215   \n",
       "2         40.710087                  N           2124             1453203324   \n",
       "3         40.706718                  N            429             1459971151   \n",
       "4         40.782520                  N            435             1458999055   \n",
       "\n",
       "   dropoff_datetime_epoch Origin_start_name    Destination_end_name  \\\n",
       "0              1457976750   Columbus Circle        East 65th Street   \n",
       "1              1465692878        2nd Avenue  Washington Square West   \n",
       "2              1453205448  West 56th Street          Beekman Street   \n",
       "3              1459971580  Greenwich Street                Broadway   \n",
       "4              1458999490          Broadway        West 81st Street   \n",
       "\n",
       "   Total_distance  Total_time  Number_of_steps  \n",
       "0          2009.1       164.9                5  \n",
       "1          2513.2       332.0                6  \n",
       "2         11060.8       767.6               16  \n",
       "3          1779.4       235.8                4  \n",
       "4          1614.9       140.1                5  "
      ]
     },
     "execution_count": 29,
     "metadata": {},
     "output_type": "execute_result"
    }
   ],
   "source": [
    "train_with_routes.head()"
   ]
  },
  {
   "cell_type": "code",
   "execution_count": 28,
   "metadata": {},
   "outputs": [],
   "source": [
    "train_with_routes.to_csv('./data/train_with_routes.csv')"
   ]
  },
  {
   "cell_type": "code",
   "execution_count": null,
   "metadata": {},
   "outputs": [],
   "source": []
  }
 ],
 "metadata": {
  "kernelspec": {
   "display_name": "Python [conda env:genml]",
   "language": "python",
   "name": "conda-env-genml-py"
  },
  "language_info": {
   "codemirror_mode": {
    "name": "ipython",
    "version": 3
   },
   "file_extension": ".py",
   "mimetype": "text/x-python",
   "name": "python",
   "nbconvert_exporter": "python",
   "pygments_lexer": "ipython3",
   "version": "3.6.7"
  }
 },
 "nbformat": 4,
 "nbformat_minor": 2
}
